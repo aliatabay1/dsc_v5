{
 "cells": [
  {
   "cell_type": "code",
   "execution_count": null,
   "id": "f49028bb",
   "metadata": {},
   "outputs": [],
   "source": [
    "API_KEY = \"fis-SQ1WA5eykKdZM_xM\""
   ]
  }
 ],
 "metadata": {
  "kernelspec": {
   "display_name": "Python 3",
   "language": "python",
   "name": "python3"
  },
  "language_info": {
   "codemirror_mode": {
    "name": "ipython",
    "version": 3
   },
   "file_extension": ".py",
   "mimetype": "text/x-python",
   "name": "python",
   "nbconvert_exporter": "python",
   "pygments_lexer": "ipython3",
   "version": "3.8.8"
  }
 },
 "nbformat": 4,
 "nbformat_minor": 5
}
